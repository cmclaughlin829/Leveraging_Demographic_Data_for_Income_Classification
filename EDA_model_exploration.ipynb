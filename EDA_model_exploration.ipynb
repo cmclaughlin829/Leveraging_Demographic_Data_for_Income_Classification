{
 "cells": [
  {
   "cell_type": "code",
   "execution_count": 3,
   "metadata": {
    "collapsed": true
   },
   "outputs": [],
   "source": [
    "import pandas as pd\n",
    "import numpy as np\n",
    "import matplotlib.pyplot as plt\n",
    "import seaborn as sns\n",
    "%matplotlib inline"
   ]
  },
  {
   "cell_type": "code",
   "execution_count": 4,
   "metadata": {
    "collapsed": false
   },
   "outputs": [],
   "source": [
    "columns = ['age', 'workclass', 'fnlwgt', 'education', 'education_num', \n",
    "           'marital_status', 'occupation', 'relationship', 'race', 'sex', \n",
    "           'capital_gain', 'capital_loss', 'hours_per_week', 'native_country', 'earnings']"
   ]
  },
  {
   "cell_type": "code",
   "execution_count": 5,
   "metadata": {
    "collapsed": false
   },
   "outputs": [],
   "source": [
    "data = pd.read_csv('data/adult_train.csv', names=columns, index_col=False)"
   ]
  },
  {
   "cell_type": "code",
   "execution_count": 6,
   "metadata": {
    "collapsed": false
   },
   "outputs": [
    {
     "data": {
      "text/html": [
       "<div>\n",
       "<table border=\"1\" class=\"dataframe\">\n",
       "  <thead>\n",
       "    <tr style=\"text-align: right;\">\n",
       "      <th></th>\n",
       "      <th>age</th>\n",
       "      <th>workclass</th>\n",
       "      <th>fnlwgt</th>\n",
       "      <th>education</th>\n",
       "      <th>education_num</th>\n",
       "      <th>marital_status</th>\n",
       "      <th>occupation</th>\n",
       "      <th>relationship</th>\n",
       "      <th>race</th>\n",
       "      <th>sex</th>\n",
       "      <th>capital_gain</th>\n",
       "      <th>capital_loss</th>\n",
       "      <th>hours_per_week</th>\n",
       "      <th>native_country</th>\n",
       "      <th>earnings</th>\n",
       "    </tr>\n",
       "  </thead>\n",
       "  <tbody>\n",
       "    <tr>\n",
       "      <th>0</th>\n",
       "      <td>39</td>\n",
       "      <td>State-gov</td>\n",
       "      <td>77516</td>\n",
       "      <td>Bachelors</td>\n",
       "      <td>13</td>\n",
       "      <td>Never-married</td>\n",
       "      <td>Adm-clerical</td>\n",
       "      <td>Not-in-family</td>\n",
       "      <td>White</td>\n",
       "      <td>Male</td>\n",
       "      <td>2174</td>\n",
       "      <td>0</td>\n",
       "      <td>40</td>\n",
       "      <td>United-States</td>\n",
       "      <td>&lt;=50K</td>\n",
       "    </tr>\n",
       "    <tr>\n",
       "      <th>1</th>\n",
       "      <td>50</td>\n",
       "      <td>Self-emp-not-inc</td>\n",
       "      <td>83311</td>\n",
       "      <td>Bachelors</td>\n",
       "      <td>13</td>\n",
       "      <td>Married-civ-spouse</td>\n",
       "      <td>Exec-managerial</td>\n",
       "      <td>Husband</td>\n",
       "      <td>White</td>\n",
       "      <td>Male</td>\n",
       "      <td>0</td>\n",
       "      <td>0</td>\n",
       "      <td>13</td>\n",
       "      <td>United-States</td>\n",
       "      <td>&lt;=50K</td>\n",
       "    </tr>\n",
       "    <tr>\n",
       "      <th>2</th>\n",
       "      <td>38</td>\n",
       "      <td>Private</td>\n",
       "      <td>215646</td>\n",
       "      <td>HS-grad</td>\n",
       "      <td>9</td>\n",
       "      <td>Divorced</td>\n",
       "      <td>Handlers-cleaners</td>\n",
       "      <td>Not-in-family</td>\n",
       "      <td>White</td>\n",
       "      <td>Male</td>\n",
       "      <td>0</td>\n",
       "      <td>0</td>\n",
       "      <td>40</td>\n",
       "      <td>United-States</td>\n",
       "      <td>&lt;=50K</td>\n",
       "    </tr>\n",
       "    <tr>\n",
       "      <th>3</th>\n",
       "      <td>53</td>\n",
       "      <td>Private</td>\n",
       "      <td>234721</td>\n",
       "      <td>11th</td>\n",
       "      <td>7</td>\n",
       "      <td>Married-civ-spouse</td>\n",
       "      <td>Handlers-cleaners</td>\n",
       "      <td>Husband</td>\n",
       "      <td>Black</td>\n",
       "      <td>Male</td>\n",
       "      <td>0</td>\n",
       "      <td>0</td>\n",
       "      <td>40</td>\n",
       "      <td>United-States</td>\n",
       "      <td>&lt;=50K</td>\n",
       "    </tr>\n",
       "    <tr>\n",
       "      <th>4</th>\n",
       "      <td>28</td>\n",
       "      <td>Private</td>\n",
       "      <td>338409</td>\n",
       "      <td>Bachelors</td>\n",
       "      <td>13</td>\n",
       "      <td>Married-civ-spouse</td>\n",
       "      <td>Prof-specialty</td>\n",
       "      <td>Wife</td>\n",
       "      <td>Black</td>\n",
       "      <td>Female</td>\n",
       "      <td>0</td>\n",
       "      <td>0</td>\n",
       "      <td>40</td>\n",
       "      <td>Cuba</td>\n",
       "      <td>&lt;=50K</td>\n",
       "    </tr>\n",
       "  </tbody>\n",
       "</table>\n",
       "</div>"
      ],
      "text/plain": [
       "   age          workclass  fnlwgt   education  education_num  \\\n",
       "0   39          State-gov   77516   Bachelors             13   \n",
       "1   50   Self-emp-not-inc   83311   Bachelors             13   \n",
       "2   38            Private  215646     HS-grad              9   \n",
       "3   53            Private  234721        11th              7   \n",
       "4   28            Private  338409   Bachelors             13   \n",
       "\n",
       "        marital_status          occupation    relationship    race      sex  \\\n",
       "0        Never-married        Adm-clerical   Not-in-family   White     Male   \n",
       "1   Married-civ-spouse     Exec-managerial         Husband   White     Male   \n",
       "2             Divorced   Handlers-cleaners   Not-in-family   White     Male   \n",
       "3   Married-civ-spouse   Handlers-cleaners         Husband   Black     Male   \n",
       "4   Married-civ-spouse      Prof-specialty            Wife   Black   Female   \n",
       "\n",
       "   capital_gain  capital_loss  hours_per_week  native_country earnings  \n",
       "0          2174             0              40   United-States    <=50K  \n",
       "1             0             0              13   United-States    <=50K  \n",
       "2             0             0              40   United-States    <=50K  \n",
       "3             0             0              40   United-States    <=50K  \n",
       "4             0             0              40            Cuba    <=50K  "
      ]
     },
     "execution_count": 6,
     "metadata": {},
     "output_type": "execute_result"
    }
   ],
   "source": [
    "data.head()"
   ]
  },
  {
   "cell_type": "code",
   "execution_count": 7,
   "metadata": {
    "collapsed": false
   },
   "outputs": [
    {
     "data": {
      "text/plain": [
       "(32561, 15)"
      ]
     },
     "execution_count": 7,
     "metadata": {},
     "output_type": "execute_result"
    }
   ],
   "source": [
    "data.shape"
   ]
  },
  {
   "cell_type": "code",
   "execution_count": 8,
   "metadata": {
    "collapsed": true
   },
   "outputs": [],
   "source": [
    "def remove_space(df, column_list):\n",
    "    for column in column_list:\n",
    "        df[column]=df[column].map(lambda x: str(x)[1:])\n",
    "    return df"
   ]
  },
  {
   "cell_type": "code",
   "execution_count": 9,
   "metadata": {
    "collapsed": true
   },
   "outputs": [],
   "source": [
    "columns = ['workclass', 'education', 'marital_status', 'occupation', 'relationship', 'race',\n",
    "           'sex', 'native_country', 'earnings']\n",
    "\n",
    "data = remove_space(data, columns)"
   ]
  },
  {
   "cell_type": "code",
   "execution_count": 10,
   "metadata": {
    "collapsed": false
   },
   "outputs": [
    {
     "name": "stdout",
     "output_type": "stream",
     "text": [
      "workclass \n",
      " Private             22696\n",
      "Self-emp-not-inc     2541\n",
      "Local-gov            2093\n",
      "?                    1836\n",
      "State-gov            1298\n",
      "Self-emp-inc         1116\n",
      "Federal-gov           960\n",
      "Without-pay            14\n",
      "Never-worked            7\n",
      "Name: workclass, dtype: int64 \n",
      "\n",
      "education \n",
      " HS-grad         10501\n",
      "Some-college     7291\n",
      "Bachelors        5355\n",
      "Masters          1723\n",
      "Assoc-voc        1382\n",
      "11th             1175\n",
      "Assoc-acdm       1067\n",
      "10th              933\n",
      "7th-8th           646\n",
      "Prof-school       576\n",
      "9th               514\n",
      "12th              433\n",
      "Doctorate         413\n",
      "5th-6th           333\n",
      "1st-4th           168\n",
      "Preschool          51\n",
      "Name: education, dtype: int64 \n",
      "\n",
      "marital_status \n",
      " Married-civ-spouse       14976\n",
      "Never-married            10683\n",
      "Divorced                  4443\n",
      "Separated                 1025\n",
      "Widowed                    993\n",
      "Married-spouse-absent      418\n",
      "Married-AF-spouse           23\n",
      "Name: marital_status, dtype: int64 \n",
      "\n",
      "occupation \n",
      " Prof-specialty       4140\n",
      "Craft-repair         4099\n",
      "Exec-managerial      4066\n",
      "Adm-clerical         3770\n",
      "Sales                3650\n",
      "Other-service        3295\n",
      "Machine-op-inspct    2002\n",
      "?                    1843\n",
      "Transport-moving     1597\n",
      "Handlers-cleaners    1370\n",
      "Farming-fishing       994\n",
      "Tech-support          928\n",
      "Protective-serv       649\n",
      "Priv-house-serv       149\n",
      "Armed-Forces            9\n",
      "Name: occupation, dtype: int64 \n",
      "\n",
      "relationship \n",
      " Husband           13193\n",
      "Not-in-family      8305\n",
      "Own-child          5068\n",
      "Unmarried          3446\n",
      "Wife               1568\n",
      "Other-relative      981\n",
      "Name: relationship, dtype: int64 \n",
      "\n",
      "race \n",
      " White                 27816\n",
      "Black                  3124\n",
      "Asian-Pac-Islander     1039\n",
      "Amer-Indian-Eskimo      311\n",
      "Other                   271\n",
      "Name: race, dtype: int64 \n",
      "\n",
      "sex \n",
      " Male      21790\n",
      "Female    10771\n",
      "Name: sex, dtype: int64 \n",
      "\n",
      "native_country \n",
      " United-States                 29170\n",
      "Mexico                          643\n",
      "?                               583\n",
      "Philippines                     198\n",
      "Germany                         137\n",
      "Canada                          121\n",
      "Puerto-Rico                     114\n",
      "El-Salvador                     106\n",
      "India                           100\n",
      "Cuba                             95\n",
      "England                          90\n",
      "Jamaica                          81\n",
      "South                            80\n",
      "China                            75\n",
      "Italy                            73\n",
      "Dominican-Republic               70\n",
      "Vietnam                          67\n",
      "Guatemala                        64\n",
      "Japan                            62\n",
      "Poland                           60\n",
      "Columbia                         59\n",
      "Taiwan                           51\n",
      "Haiti                            44\n",
      "Iran                             43\n",
      "Portugal                         37\n",
      "Nicaragua                        34\n",
      "Peru                             31\n",
      "France                           29\n",
      "Greece                           29\n",
      "Ecuador                          28\n",
      "Ireland                          24\n",
      "Hong                             20\n",
      "Cambodia                         19\n",
      "Trinadad&Tobago                  19\n",
      "Thailand                         18\n",
      "Laos                             18\n",
      "Yugoslavia                       16\n",
      "Outlying-US(Guam-USVI-etc)       14\n",
      "Hungary                          13\n",
      "Honduras                         13\n",
      "Scotland                         12\n",
      "Holand-Netherlands                1\n",
      "Name: native_country, dtype: int64 \n",
      "\n",
      "earnings \n",
      " <=50K    24720\n",
      ">50K      7841\n",
      "Name: earnings, dtype: int64 \n",
      "\n"
     ]
    }
   ],
   "source": [
    "for column in columns:\n",
    "    print(column,'\\n',data[column].value_counts(),'\\n')"
   ]
  },
  {
   "cell_type": "code",
   "execution_count": 11,
   "metadata": {
    "collapsed": false
   },
   "outputs": [
    {
     "data": {
      "text/plain": [
       "count      2399\n",
       "unique        2\n",
       "top       <=50K\n",
       "freq       2066\n",
       "Name: earnings, dtype: object"
      ]
     },
     "execution_count": 11,
     "metadata": {},
     "output_type": "execute_result"
    }
   ],
   "source": [
    "data['earnings'][(data['workclass']=='?')|(data['occupation']=='?')|(data['native_country']=='?')].describe()"
   ]
  },
  {
   "cell_type": "code",
   "execution_count": 12,
   "metadata": {
    "collapsed": false
   },
   "outputs": [
    {
     "data": {
      "text/plain": [
       "count      1836\n",
       "unique        2\n",
       "top       <=50K\n",
       "freq       1645\n",
       "Name: earnings, dtype: object"
      ]
     },
     "execution_count": 12,
     "metadata": {},
     "output_type": "execute_result"
    }
   ],
   "source": [
    "data['earnings'][(data['workclass'] == '?') & (data['occupation'] == '?')].describe()"
   ]
  },
  {
   "cell_type": "code",
   "execution_count": 13,
   "metadata": {
    "collapsed": false
   },
   "outputs": [
    {
     "data": {
      "text/plain": [
       "count       583\n",
       "unique        2\n",
       "top       <=50K\n",
       "freq        437\n",
       "Name: earnings, dtype: object"
      ]
     },
     "execution_count": 13,
     "metadata": {},
     "output_type": "execute_result"
    }
   ],
   "source": [
    "data['earnings'][(data['native_country'] == '?')].describe()"
   ]
  },
  {
   "cell_type": "code",
   "execution_count": 14,
   "metadata": {
    "collapsed": false
   },
   "outputs": [
    {
     "data": {
      "image/png": "[encoded data removed]",
      "text/plain": [
       "<matplotlib.figure.Figure at 0x1130e9780>"
      ]
     },
     "metadata": {},
     "output_type": "display_data"
    }
   ],
   "source": [
    "feats = ['age', 'capital_gain', 'capital_loss', 'education_num', 'hours_per_week']\n",
    "nrows, ncols = 3,2\n",
    "fig = plt.figure(figsize = (14, 16))\n",
    "for i in range (1,6):\n",
    "    ax = fig.add_subplot(nrows, ncols, i)\n",
    "    ax.hist(x = data[feats[i-1]], bins=35)\n",
    "    ax.set_ylabel('Count')\n",
    "    ax.set_xlabel(feats[i-1])\n",
    "\n",
    "#fig.savefig('train_data_hist.png', transparent = False, dpi = 80, bbox_inches = 'tight')"
   ]
  },
  {
   "cell_type": "code",
   "execution_count": 15,
   "metadata": {
    "collapsed": true
   },
   "outputs": [],
   "source": [
    "zero_cap_gain = data['capital_gain'][data['capital_gain'] == 0].count()/len(data)\n",
    "zero_cap_loss = data['capital_loss'][data['capital_loss'] == 0].count()/len(data)"
   ]
  },
  {
   "cell_type": "code",
   "execution_count": 16,
   "metadata": {
    "collapsed": false
   },
   "outputs": [
    {
     "name": "stdout",
     "output_type": "stream",
     "text": [
      "percent of records with no capital gain =  0.916710174749\n",
      "percent of records with no capital loss =  0.953349098615\n"
     ]
    }
   ],
   "source": [
    "print ('percent of records with no capital gain = ', zero_cap_gain)\n",
    "print ('percent of records with no capital loss = ', zero_cap_loss)"
   ]
  },
  {
   "cell_type": "code",
   "execution_count": 17,
   "metadata": {
    "collapsed": false
   },
   "outputs": [
    {
     "data": {
      "text/plain": [
       "<matplotlib.axes._subplots.AxesSubplot at 0x1130e9630>"
      ]
     },
     "execution_count": 17,
     "metadata": {},
     "output_type": "execute_result"
    },
    {
     "data": {
      "image/png": "[encoded data removed]",
      "text/plain": [
       "<matplotlib.figure.Figure at 0x1130d59e8>"
      ]
     },
     "metadata": {},
     "output_type": "display_data"
    }
   ],
   "source": [
    "fig, ax = plt.subplots(figsize = (8,6))\n",
    "sns.boxplot(x = data['earnings'], y = data['age'], ax=ax)\n",
    "#ax.get_figure().savefig('age_box', transparent = False, dpi = 80, bbox_inches = 'tight')"
   ]
  },
  {
   "cell_type": "code",
   "execution_count": 18,
   "metadata": {
    "collapsed": false
   },
   "outputs": [
    {
     "data": {
      "text/plain": [
       "<matplotlib.axes._subplots.AxesSubplot at 0x11719bf60>"
      ]
     },
     "execution_count": 18,
     "metadata": {},
     "output_type": "execute_result"
    },
    {
     "data": {
      "image/png": "[encoded data removed]",
      "text/plain": [
       "<matplotlib.figure.Figure at 0x1177e5470>"
      ]
     },
     "metadata": {},
     "output_type": "display_data"
    }
   ],
   "source": [
    "fig, ax = plt.subplots(figsize = (8,6))\n",
    "sns.boxplot(x=data['earnings'], y=data['education_num'], ax=ax)\n",
    "#ax.get_figure().savefig('education_box', transparent = False, dpi = 80, bbox_inches = 'tight')"
   ]
  },
  {
   "cell_type": "code",
   "execution_count": 19,
   "metadata": {
    "collapsed": false
   },
   "outputs": [
    {
     "data": {
      "text/plain": [
       "<matplotlib.axes._subplots.AxesSubplot at 0x117d1f518>"
      ]
     },
     "execution_count": 19,
     "metadata": {},
     "output_type": "execute_result"
    },
    {
     "data": {
      "image/png": "[encoded data removed]",
      "text/plain": [
       "<matplotlib.figure.Figure at 0x1180077f0>"
      ]
     },
     "metadata": {},
     "output_type": "display_data"
    }
   ],
   "source": [
    "fig, ax = plt.subplots(figsize = (8,6))\n",
    "sns.boxplot(x = data['earnings'], y = data['hours_per_week'])\n",
    "#ax.get_figure().savefig('hours_box', transparent = False, dpi = 80, bbox_inches = 'tight')"
   ]
  },
  {
   "cell_type": "markdown",
   "metadata": {},
   "source": [
    "## Data Cleaning"
   ]
  },
  {
   "cell_type": "code",
   "execution_count": 20,
   "metadata": {
    "collapsed": true
   },
   "outputs": [],
   "source": [
    "def drop_rows(df, column_list, value):\n",
    "    for column in column_list:\n",
    "        df = df[df[column] != value]\n",
    "    df = df.reset_index(drop=True)\n",
    "    return df"
   ]
  },
  {
   "cell_type": "code",
   "execution_count": 21,
   "metadata": {
    "collapsed": true
   },
   "outputs": [],
   "source": [
    "columns = ['workclass', 'occupation', 'native_country']"
   ]
  },
  {
   "cell_type": "code",
   "execution_count": 22,
   "metadata": {
    "collapsed": true
   },
   "outputs": [],
   "source": [
    "data = drop_rows(data, columns, '?')"
   ]
  },
  {
   "cell_type": "code",
   "execution_count": 25,
   "metadata": {
    "collapsed": false
   },
   "outputs": [],
   "source": [
    "data_set_balance = data['earnings'][data['earnings'] == '<=50K'].count()/ data['earnings'][data['earnings'] == '>50K'].count()"
   ]
  },
  {
   "cell_type": "code",
   "execution_count": 26,
   "metadata": {
    "collapsed": false
   },
   "outputs": [
    {
     "data": {
      "text/plain": [
       "3.0173148641449119"
      ]
     },
     "execution_count": 26,
     "metadata": {},
     "output_type": "execute_result"
    }
   ],
   "source": [
    "data_set_balance"
   ]
  },
  {
   "cell_type": "code",
   "execution_count": 30,
   "metadata": {
    "collapsed": false
   },
   "outputs": [],
   "source": [
    "X = data.drop(data[['fnlwgt', 'education', 'earnings']], axis=1)\n",
    "y = data['earnings']"
   ]
  },
  {
   "cell_type": "markdown",
   "metadata": {},
   "source": [
    "## Decision Tree"
   ]
  },
  {
   "cell_type": "code",
   "execution_count": 76,
   "metadata": {
    "collapsed": true
   },
   "outputs": [],
   "source": [
    "from sklearn.tree import DecisionTreeClassifier\n",
    "from sklearn.model_selection import train_test_split\n",
    "from sklearn.model_selection import cross_val_score\n",
    "from sklearn.model_selection import cross_val_predict\n",
    "from sklearn.metrics import confusion_matrix\n",
    "from sklearn.metrics import classification_report"
   ]
  },
  {
   "cell_type": "code",
   "execution_count": 32,
   "metadata": {
    "collapsed": true
   },
   "outputs": [],
   "source": [
    "dummy_columns = ['workclass', 'marital_status', 'occupation', \n",
    "                 'relationship', 'race', 'sex', 'native_country']"
   ]
  },
  {
   "cell_type": "code",
   "execution_count": 33,
   "metadata": {
    "collapsed": false
   },
   "outputs": [],
   "source": [
    "X_tree = pd.get_dummies(X, columns=dummy_columns)\n",
    "y_tree = pd.get_dummies(y, columns='earnings')['>50K']"
   ]
  },
  {
   "cell_type": "code",
   "execution_count": 27,
   "metadata": {
    "collapsed": true
   },
   "outputs": [],
   "source": [
    "tree_clf = DecisionTreeClassifier(max_depth=7, random_state=7)"
   ]
  },
  {
   "cell_type": "code",
   "execution_count": 68,
   "metadata": {
    "collapsed": false
   },
   "outputs": [
    {
     "name": "stdout",
     "output_type": "stream",
     "text": [
      "[ 0.84535057  0.8463451   0.85264379  0.85543767  0.85408722]\n",
      "0.85077286962\n"
     ]
    }
   ],
   "source": [
    "score = cross_val_score(tree_clf, X_tree, y_tree, cv = 5)\n",
    "print(score)\n",
    "print(score.mean())"
   ]
  },
  {
   "cell_type": "code",
   "execution_count": 114,
   "metadata": {
    "collapsed": false
   },
   "outputs": [],
   "source": [
    "pred = cross_val_predict(tree_clf, X_tree, y_tree, cv = 5)"
   ]
  },
  {
   "cell_type": "code",
   "execution_count": 128,
   "metadata": {
    "collapsed": false
   },
   "outputs": [
    {
     "data": {
      "text/plain": [
       "array([[21643,  1011],\n",
       "       [ 3490,  4018]])"
      ]
     },
     "execution_count": 128,
     "metadata": {},
     "output_type": "execute_result"
    }
   ],
   "source": [
    "confusion_matrix(y_tree, pred)"
   ]
  },
  {
   "cell_type": "code",
   "execution_count": 127,
   "metadata": {
    "collapsed": false
   },
   "outputs": [
    {
     "name": "stdout",
     "output_type": "stream",
     "text": [
      "             precision    recall  f1-score   support\n",
      "\n",
      "          0       0.86      0.96      0.91     22654\n",
      "          1       0.80      0.54      0.64      7508\n",
      "\n",
      "avg / total       0.85      0.85      0.84     30162\n",
      "\n"
     ]
    }
   ],
   "source": [
    "print(classification_report(y_tree, pred))"
   ]
  },
  {
   "cell_type": "markdown",
   "metadata": {},
   "source": [
    "## Random Forest"
   ]
  },
  {
   "cell_type": "code",
   "execution_count": 30,
   "metadata": {
    "collapsed": true
   },
   "outputs": [],
   "source": [
    "from sklearn.ensemble import RandomForestClassifier"
   ]
  },
  {
   "cell_type": "code",
   "execution_count": 31,
   "metadata": {
    "collapsed": true
   },
   "outputs": [],
   "source": [
    "rnd_clf = RandomForestClassifier(n_estimators = 500, warm_start=True, random_state = 7)"
   ]
  },
  {
   "cell_type": "code",
   "execution_count": 69,
   "metadata": {
    "collapsed": false
   },
   "outputs": [
    {
     "name": "stdout",
     "output_type": "stream",
     "text": [
      "[ 0.84899718  0.84303     0.84551633  0.85179045  0.84927873]\n",
      "0.84772253764\n"
     ]
    }
   ],
   "source": [
    "score = cross_val_score(rnd_clf, X_tree, y_tree, cv = 5)\n",
    "print(score)\n",
    "print(score.mean())"
   ]
  },
  {
   "cell_type": "code",
   "execution_count": 129,
   "metadata": {
    "collapsed": true
   },
   "outputs": [],
   "source": [
    "pred = cross_val_predict(rnd_clf, X_tree, y_tree, cv = 5)"
   ]
  },
  {
   "cell_type": "code",
   "execution_count": 130,
   "metadata": {
    "collapsed": false
   },
   "outputs": [
    {
     "data": {
      "text/plain": [
       "array([[20804,  1850],\n",
       "       [ 2743,  4765]])"
      ]
     },
     "execution_count": 130,
     "metadata": {},
     "output_type": "execute_result"
    }
   ],
   "source": [
    "confusion_matrix(y_tree, pred)"
   ]
  },
  {
   "cell_type": "code",
   "execution_count": 131,
   "metadata": {
    "collapsed": false
   },
   "outputs": [
    {
     "name": "stdout",
     "output_type": "stream",
     "text": [
      "             precision    recall  f1-score   support\n",
      "\n",
      "          0       0.88      0.92      0.90     22654\n",
      "          1       0.72      0.63      0.67      7508\n",
      "\n",
      "avg / total       0.84      0.85      0.84     30162\n",
      "\n"
     ]
    }
   ],
   "source": [
    "print(classification_report(y_tree, pred))"
   ]
  },
  {
   "cell_type": "markdown",
   "metadata": {},
   "source": [
    "### Feature Importance"
   ]
  },
  {
   "cell_type": "code",
   "execution_count": 74,
   "metadata": {
    "collapsed": true
   },
   "outputs": [],
   "source": [
    "features = X_tree.columns\n",
    "importances = rnd_clf.feature_importances_\n",
    "indices = np.argsort(importances)[::-1]"
   ]
  },
  {
   "cell_type": "code",
   "execution_count": 75,
   "metadata": {
    "collapsed": false
   },
   "outputs": [
    {
     "name": "stdout",
     "output_type": "stream",
     "text": [
      " 1) age                            0.225689\n",
      " 2) education_num                  0.131830\n",
      " 3) hours_per_week                 0.112624\n",
      " 4) capital_gain                   0.105096\n",
      " 5) marital_status_Married-civ-spouse 0.070919\n",
      " 6) relationship_Husband           0.044013\n",
      " 7) capital_loss                   0.035175\n",
      " 8) marital_status_Never-married   0.024845\n",
      " 9) occupation_Exec-managerial     0.019545\n",
      "10) occupation_Prof-specialty      0.018237\n",
      "11) relationship_Not-in-family     0.011238\n",
      "12) workclass_Private              0.010835\n",
      "13) relationship_Wife              0.010795\n",
      "14) sex_Female                     0.009645\n",
      "15) relationship_Own-child         0.009517\n",
      "16) sex_Male                       0.009372\n",
      "17) workclass_Self-emp-not-inc     0.008870\n",
      "18) occupation_Other-service       0.008422\n",
      "19) occupation_Craft-repair        0.007500\n",
      "20) occupation_Sales               0.007356\n",
      "21) workclass_Self-emp-inc         0.006648\n",
      "22) race_White                     0.006638\n",
      "23) marital_status_Divorced        0.006596\n",
      "24) workclass_Local-gov            0.006082\n",
      "25) occupation_Adm-clerical        0.006042\n",
      "26) native_country_United-States   0.005920\n",
      "27) relationship_Unmarried         0.005891\n",
      "28) occupation_Farming-fishing     0.005431\n",
      "29) workclass_State-gov            0.005236\n",
      "30) workclass_Federal-gov          0.005131\n",
      "31) race_Black                     0.004995\n",
      "32) occupation_Machine-op-inspct   0.004912\n",
      "33) occupation_Transport-moving    0.004811\n",
      "34) occupation_Tech-support        0.004627\n",
      "35) occupation_Handlers-cleaners   0.004404\n",
      "36) occupation_Protective-serv     0.003387\n",
      "37) race_Asian-Pac-Islander        0.003127\n",
      "38) native_country_Mexico          0.002098\n",
      "39) marital_status_Separated       0.002038\n",
      "40) relationship_Other-relative    0.001695\n",
      "41) marital_status_Widowed         0.001678\n",
      "42) race_Amer-Indian-Eskimo        0.001665\n",
      "43) native_country_Canada          0.001351\n",
      "44) native_country_Germany         0.001260\n",
      "45) native_country_England         0.001168\n",
      "46) race_Other                     0.001071\n",
      "47) native_country_Philippines     0.001057\n",
      "48) native_country_Italy           0.001020\n",
      "49) native_country_Cuba            0.001017\n",
      "50) marital_status_Married-spouse-absent 0.000879\n",
      "51) native_country_India           0.000833\n",
      "52) native_country_Japan           0.000726\n",
      "53) native_country_Iran            0.000710\n",
      "54) native_country_Poland          0.000612\n",
      "55) native_country_Puerto-Rico     0.000576\n",
      "56) native_country_South           0.000524\n",
      "57) native_country_Jamaica         0.000485\n",
      "58) native_country_Greece          0.000469\n",
      "59) native_country_Vietnam         0.000417\n",
      "60) native_country_Taiwan          0.000416\n",
      "61) native_country_China           0.000405\n",
      "62) native_country_Yugoslavia      0.000375\n",
      "63) marital_status_Married-AF-spouse 0.000368\n",
      "64) native_country_Cambodia        0.000331\n",
      "65) native_country_Ireland         0.000289\n",
      "66) native_country_France          0.000276\n",
      "67) native_country_Guatemala       0.000261\n",
      "68) native_country_El-Salvador     0.000244\n",
      "69) native_country_Dominican-Republic 0.000230\n",
      "70) native_country_Columbia        0.000229\n",
      "71) native_country_Ecuador         0.000219\n",
      "72) native_country_Hong            0.000198\n",
      "73) occupation_Priv-house-serv     0.000194\n",
      "74) native_country_Haiti           0.000174\n",
      "75) native_country_Hungary         0.000160\n",
      "76) native_country_Peru            0.000138\n",
      "77) native_country_Portugal        0.000135\n",
      "78) native_country_Nicaragua       0.000122\n",
      "79) native_country_Scotland        0.000102\n",
      "80) workclass_Without-pay          0.000092\n",
      "81) native_country_Thailand        0.000090\n",
      "82) native_country_Laos            0.000073\n",
      "83) native_country_Trinadad&Tobago 0.000052\n",
      "84) native_country_Outlying-US(Guam-USVI-etc) 0.000048\n",
      "85) occupation_Armed-Forces        0.000018\n",
      "86) native_country_Honduras        0.000009\n",
      "87) native_country_Holand-Netherlands 0.000000\n"
     ]
    }
   ],
   "source": [
    "for f in range(X_train.shape[1]):\n",
    "    print(\"%2d) %-*s %f\" % (f + 1, 30,\n",
    "                            features[indices[f]],\n",
    "                            importances[indices[f]]))"
   ]
  },
  {
   "cell_type": "markdown",
   "metadata": {},
   "source": [
    "## LINEAR SVM"
   ]
  },
  {
   "cell_type": "code",
   "execution_count": 76,
   "metadata": {
    "collapsed": true
   },
   "outputs": [],
   "source": [
    "from sklearn.preprocessing import StandardScaler\n",
    "from sklearn.svm import LinearSVC"
   ]
  },
  {
   "cell_type": "code",
   "execution_count": 77,
   "metadata": {
    "collapsed": true
   },
   "outputs": [],
   "source": [
    "scale_columns = ['age', 'capital_gain', 'capital_loss', 'education_num', 'hours_per_week']\n",
    "scaled_columns = ['age_scaled', 'capital_gain_scaled', 'capital_loss_scaled', 'education_num_scaled', 'hours_per_week_scaled']\n",
    "scaler = StandardScaler()"
   ]
  },
  {
   "cell_type": "code",
   "execution_count": 78,
   "metadata": {
    "collapsed": true
   },
   "outputs": [],
   "source": [
    "scaled_data = pd.DataFrame(data=scaler.fit_transform(X_tree[scale_columns]), columns = scaled_columns)"
   ]
  },
  {
   "cell_type": "code",
   "execution_count": 79,
   "metadata": {
    "collapsed": false
   },
   "outputs": [],
   "source": [
    "X_svm = pd.concat([X_tree, scaled_data], axis=1)"
   ]
  },
  {
   "cell_type": "code",
   "execution_count": 80,
   "metadata": {
    "collapsed": false
   },
   "outputs": [],
   "source": [
    "X_svm = X_svm.drop(scale_columns, axis=1)"
   ]
  },
  {
   "cell_type": "code",
   "execution_count": 81,
   "metadata": {
    "collapsed": true
   },
   "outputs": [],
   "source": [
    "y_svm = y_tree"
   ]
  },
  {
   "cell_type": "code",
   "execution_count": 82,
   "metadata": {
    "collapsed": true
   },
   "outputs": [],
   "source": [
    "svm_clf = LinearSVC(C=1, loss='hinge')"
   ]
  },
  {
   "cell_type": "code",
   "execution_count": 84,
   "metadata": {
    "collapsed": false
   },
   "outputs": [],
   "source": [
    "score = cross_val_score(svm_clf, X_svm, y_svm, cv = 5)"
   ]
  },
  {
   "cell_type": "code",
   "execution_count": 85,
   "metadata": {
    "collapsed": false
   },
   "outputs": [
    {
     "name": "stdout",
     "output_type": "stream",
     "text": [
      "[ 0.84468755  0.84336151  0.84849992  0.84897215  0.84944454]\n",
      "0.846993133142\n"
     ]
    }
   ],
   "source": [
    "print(score)\n",
    "print(score.mean())"
   ]
  },
  {
   "cell_type": "code",
   "execution_count": 133,
   "metadata": {
    "collapsed": true
   },
   "outputs": [],
   "source": [
    "pred = cross_val_predict(svm_clf, X_svm, y_svm, cv = 5)"
   ]
  },
  {
   "cell_type": "code",
   "execution_count": 135,
   "metadata": {
    "collapsed": false
   },
   "outputs": [
    {
     "data": {
      "text/plain": [
       "array([[21004,  1650],\n",
       "       [ 2967,  4541]])"
      ]
     },
     "execution_count": 135,
     "metadata": {},
     "output_type": "execute_result"
    }
   ],
   "source": [
    "confusion_matrix(y_svm, pred)"
   ]
  },
  {
   "cell_type": "code",
   "execution_count": 136,
   "metadata": {
    "collapsed": false
   },
   "outputs": [
    {
     "name": "stdout",
     "output_type": "stream",
     "text": [
      "             precision    recall  f1-score   support\n",
      "\n",
      "          0       0.88      0.93      0.90     22654\n",
      "          1       0.73      0.60      0.66      7508\n",
      "\n",
      "avg / total       0.84      0.85      0.84     30162\n",
      "\n"
     ]
    }
   ],
   "source": [
    "print(classification_report(y_svm, pred))"
   ]
  },
  {
   "cell_type": "markdown",
   "metadata": {
    "collapsed": true
   },
   "source": [
    "## Polynomial Kernel"
   ]
  },
  {
   "cell_type": "code",
   "execution_count": 49,
   "metadata": {
    "collapsed": true
   },
   "outputs": [],
   "source": [
    "from sklearn.svm import SVC"
   ]
  },
  {
   "cell_type": "code",
   "execution_count": 50,
   "metadata": {
    "collapsed": true
   },
   "outputs": [],
   "source": [
    "poly_kernel_svm_clf = SVC(kernel='poly', degree=2, coef0=1, C=1)"
   ]
  },
  {
   "cell_type": "code",
   "execution_count": 86,
   "metadata": {
    "collapsed": false
   },
   "outputs": [],
   "source": [
    "score = cross_val_score(poly_kernel_svm_clf, X_svm, y_svm, cv = 3)"
   ]
  },
  {
   "cell_type": "code",
   "execution_count": 87,
   "metadata": {
    "collapsed": false
   },
   "outputs": [
    {
     "name": "stdout",
     "output_type": "stream",
     "text": [
      "[ 0.84574838  0.85130296  0.8511887 ]\n",
      "0.849413349258\n"
     ]
    }
   ],
   "source": [
    "print(score)\n",
    "print(score.mean())"
   ]
  },
  {
   "cell_type": "code",
   "execution_count": 138,
   "metadata": {
    "collapsed": true
   },
   "outputs": [],
   "source": [
    "pred = cross_val_predict(poly_kernel_svm_clf, X_svm, y_svm, cv = 3)"
   ]
  },
  {
   "cell_type": "code",
   "execution_count": 139,
   "metadata": {
    "collapsed": false
   },
   "outputs": [
    {
     "data": {
      "text/plain": [
       "array([[21214,  1440],\n",
       "       [ 3102,  4406]])"
      ]
     },
     "execution_count": 139,
     "metadata": {},
     "output_type": "execute_result"
    }
   ],
   "source": [
    "confusion_matrix(y_svm, pred)"
   ]
  },
  {
   "cell_type": "code",
   "execution_count": 140,
   "metadata": {
    "collapsed": false
   },
   "outputs": [
    {
     "name": "stdout",
     "output_type": "stream",
     "text": [
      "             precision    recall  f1-score   support\n",
      "\n",
      "          0       0.87      0.94      0.90     22654\n",
      "          1       0.75      0.59      0.66      7508\n",
      "\n",
      "avg / total       0.84      0.85      0.84     30162\n",
      "\n"
     ]
    }
   ],
   "source": [
    "print(classification_report(y_svm, pred))"
   ]
  },
  {
   "cell_type": "markdown",
   "metadata": {},
   "source": [
    "## RBF Kernel"
   ]
  },
  {
   "cell_type": "code",
   "execution_count": 88,
   "metadata": {
    "collapsed": false
   },
   "outputs": [],
   "source": [
    "rbf_kernel_svm_clf = SVC(kernel='rbf', gamma=5, C=0.001)"
   ]
  },
  {
   "cell_type": "code",
   "execution_count": 89,
   "metadata": {
    "collapsed": false
   },
   "outputs": [],
   "source": [
    "score = cross_val_score(rbf_kernel_svm_clf, X_svm, y_svm, cv = 3)"
   ]
  },
  {
   "cell_type": "code",
   "execution_count": 90,
   "metadata": {
    "collapsed": false
   },
   "outputs": [
    {
     "name": "stdout",
     "output_type": "stream",
     "text": [
      "[ 0.75106912  0.75104436  0.75111907]\n",
      "0.75107751641\n"
     ]
    }
   ],
   "source": [
    "print(score)\n",
    "print(score.mean())"
   ]
  },
  {
   "cell_type": "markdown",
   "metadata": {},
   "source": [
    "## Logistic Regression"
   ]
  },
  {
   "cell_type": "code",
   "execution_count": 95,
   "metadata": {
    "collapsed": true
   },
   "outputs": [],
   "source": [
    "from sklearn.linear_model import LogisticRegression"
   ]
  },
  {
   "cell_type": "code",
   "execution_count": 96,
   "metadata": {
    "collapsed": true
   },
   "outputs": [],
   "source": [
    "log_reg = LogisticRegression()"
   ]
  },
  {
   "cell_type": "code",
   "execution_count": 97,
   "metadata": {
    "collapsed": false
   },
   "outputs": [],
   "source": [
    "score = cross_val_score(log_reg, X_svm, y_svm, cv = 5)"
   ]
  },
  {
   "cell_type": "code",
   "execution_count": 98,
   "metadata": {
    "collapsed": false
   },
   "outputs": [
    {
     "name": "stdout",
     "output_type": "stream",
     "text": [
      "[ 0.84584784  0.84186972  0.85148351  0.85195623  0.84795225]\n",
      "0.847821908196\n"
     ]
    }
   ],
   "source": [
    "print(score)\n",
    "print(score.mean())"
   ]
  },
  {
   "cell_type": "code",
   "execution_count": 141,
   "metadata": {
    "collapsed": true
   },
   "outputs": [],
   "source": [
    "pred = cross_val_predict(log_reg, X_svm, y_svm, cv = 5)"
   ]
  },
  {
   "cell_type": "code",
   "execution_count": 142,
   "metadata": {
    "collapsed": false
   },
   "outputs": [
    {
     "data": {
      "text/plain": [
       "array([[20993,  1661],\n",
       "       [ 2929,  4579]])"
      ]
     },
     "execution_count": 142,
     "metadata": {},
     "output_type": "execute_result"
    }
   ],
   "source": [
    "confusion_matrix(y_svm, pred)"
   ]
  },
  {
   "cell_type": "code",
   "execution_count": 143,
   "metadata": {
    "collapsed": false
   },
   "outputs": [
    {
     "name": "stdout",
     "output_type": "stream",
     "text": [
      "             precision    recall  f1-score   support\n",
      "\n",
      "          0       0.88      0.93      0.90     22654\n",
      "          1       0.73      0.61      0.67      7508\n",
      "\n",
      "avg / total       0.84      0.85      0.84     30162\n",
      "\n"
     ]
    }
   ],
   "source": [
    "print(classification_report(y_svm, pred))"
   ]
  },
  {
   "cell_type": "markdown",
   "metadata": {},
   "source": [
    "## Ensemble"
   ]
  },
  {
   "cell_type": "code",
   "execution_count": 180,
   "metadata": {
    "collapsed": true
   },
   "outputs": [],
   "source": [
    "from sklearn.ensemble import VotingClassifier"
   ]
  },
  {
   "cell_type": "code",
   "execution_count": 181,
   "metadata": {
    "collapsed": true
   },
   "outputs": [],
   "source": [
    "log_reg = LogisticRegression()\n",
    "svm_clf = LinearSVC(C=1, loss='hinge')\n",
    "tree_clf = DecisionTreeClassifier(max_depth=7, random_state=7)\n",
    "voting_clf = VotingClassifier(estimators = [('lr', log_reg), ('svm', svm_clf), ('tree', tree_clf)], voting = 'hard')"
   ]
  },
  {
   "cell_type": "code",
   "execution_count": 182,
   "metadata": {
    "collapsed": true
   },
   "outputs": [],
   "source": [
    "score = cross_val_score(voting_clf, X_svm, y_svm, cv=5)"
   ]
  },
  {
   "cell_type": "code",
   "execution_count": 183,
   "metadata": {
    "collapsed": false
   },
   "outputs": [
    {
     "name": "stdout",
     "output_type": "stream",
     "text": [
      "[ 0.84667661  0.8445218   0.85148351  0.85295093  0.84994197]\n",
      "0.849114962203\n"
     ]
    }
   ],
   "source": [
    "print(score)\n",
    "print(score.mean())"
   ]
  },
  {
   "cell_type": "markdown",
   "metadata": {},
   "source": [
    "## Boosting"
   ]
  },
  {
   "cell_type": "code",
   "execution_count": 28,
   "metadata": {
    "collapsed": true
   },
   "outputs": [],
   "source": [
    "from sklearn.ensemble import GradientBoostingClassifier"
   ]
  },
  {
   "cell_type": "code",
   "execution_count": 107,
   "metadata": {
    "collapsed": true
   },
   "outputs": [],
   "source": [
    "scores = {}\n",
    "lambdas = [0.0001, 0.001, 0.01, 0.1, 1]\n",
    "\n",
    "gbc = GradientBoostingClassifier()\n",
    "\n",
    "for l in lambdas:\n",
    "    gbc.set_params(learning_rate=l, n_estimators=500, random_state=1)\n",
    "    gbc.fit(X_tree, y_tree)\n",
    "    scores[l] = gbc.score(X_tree, y_tree)"
   ]
  },
  {
   "cell_type": "code",
   "execution_count": 108,
   "metadata": {
    "collapsed": false
   },
   "outputs": [
    {
     "data": {
      "text/plain": [
       "{0.0001: 0.75107751475366358,\n",
       " 0.001: 0.79729460911080163,\n",
       " 0.01: 0.85746966381539691,\n",
       " 0.1: 0.88090975399509319,\n",
       " 1: 0.88263377760095485}"
      ]
     },
     "execution_count": 108,
     "metadata": {},
     "output_type": "execute_result"
    }
   ],
   "source": [
    "scores"
   ]
  },
  {
   "cell_type": "code",
   "execution_count": 109,
   "metadata": {
    "collapsed": true
   },
   "outputs": [],
   "source": [
    "gbc = GradientBoostingClassifier(learning_rate = 1, n_estimators = 500, random_state = 1)"
   ]
  },
  {
   "cell_type": "code",
   "execution_count": 110,
   "metadata": {
    "collapsed": true
   },
   "outputs": [],
   "source": [
    "score = cross_val_score(gbc, X_tree, y_tree, cv=3)"
   ]
  },
  {
   "cell_type": "code",
   "execution_count": 111,
   "metadata": {
    "collapsed": false
   },
   "outputs": [
    {
     "name": "stdout",
     "output_type": "stream",
     "text": [
      "[ 0.85758329  0.85995624  0.8669054 ]\n",
      "0.861481643197\n"
     ]
    }
   ],
   "source": [
    "print(score)\n",
    "print(score.mean())"
   ]
  },
  {
   "cell_type": "code",
   "execution_count": 144,
   "metadata": {
    "collapsed": true
   },
   "outputs": [],
   "source": [
    "pred = cross_val_predict(gbc, X_tree, y_tree, cv = 3)"
   ]
  },
  {
   "cell_type": "code",
   "execution_count": 145,
   "metadata": {
    "collapsed": false
   },
   "outputs": [
    {
     "data": {
      "text/plain": [
       "array([[21035,  1619],\n",
       "       [ 2559,  4949]])"
      ]
     },
     "execution_count": 145,
     "metadata": {},
     "output_type": "execute_result"
    }
   ],
   "source": [
    "confusion_matrix(y_tree, pred)"
   ]
  },
  {
   "cell_type": "code",
   "execution_count": 146,
   "metadata": {
    "collapsed": false
   },
   "outputs": [
    {
     "name": "stdout",
     "output_type": "stream",
     "text": [
      "             precision    recall  f1-score   support\n",
      "\n",
      "          0       0.89      0.93      0.91     22654\n",
      "          1       0.75      0.66      0.70      7508\n",
      "\n",
      "avg / total       0.86      0.86      0.86     30162\n",
      "\n"
     ]
    }
   ],
   "source": [
    "print(classification_report(y_tree, pred))"
   ]
  },
  {
   "cell_type": "markdown",
   "metadata": {},
   "source": [
    "## Hyperparameter Tuning"
   ]
  },
  {
   "cell_type": "code",
   "execution_count": 147,
   "metadata": {
    "collapsed": true
   },
   "outputs": [],
   "source": [
    "from sklearn.model_selection import GridSearchCV"
   ]
  },
  {
   "cell_type": "code",
   "execution_count": 149,
   "metadata": {
    "collapsed": false
   },
   "outputs": [],
   "source": [
    "param_grid = [{'n_estimators':[500, 750, 1000], 'learning_rate':[0.5, 1, 1.5], 'max_depth':[1, 2, 3]}]"
   ]
  },
  {
   "cell_type": "code",
   "execution_count": 150,
   "metadata": {
    "collapsed": true
   },
   "outputs": [],
   "source": [
    "gbc = GradientBoostingClassifier()"
   ]
  },
  {
   "cell_type": "code",
   "execution_count": 151,
   "metadata": {
    "collapsed": true
   },
   "outputs": [],
   "source": [
    "grid_search = GridSearchCV(gbc, param_grid, cv=4)"
   ]
  },
  {
   "cell_type": "code",
   "execution_count": 152,
   "metadata": {
    "collapsed": false
   },
   "outputs": [
    {
     "data": {
      "text/plain": [
       "GridSearchCV(cv=4, error_score='raise',\n",
       "       estimator=GradientBoostingClassifier(criterion='friedman_mse', init=None,\n",
       "              learning_rate=0.1, loss='deviance', max_depth=3,\n",
       "              max_features=None, max_leaf_nodes=None,\n",
       "              min_impurity_split=1e-07, min_samples_leaf=1,\n",
       "              min_samples_split=2, min_weight_fraction_leaf=0.0,\n",
       "              n_estimators=100, presort='auto', random_state=None,\n",
       "              subsample=1.0, verbose=0, warm_start=False),\n",
       "       fit_params={}, iid=True, n_jobs=1,\n",
       "       param_grid=[{'n_estimators': [500, 750, 1000], 'learning_rate': [0.5, 1, 1.5], 'max_depth': [1, 2, 3]}],\n",
       "       pre_dispatch='2*n_jobs', refit=True, return_train_score=True,\n",
       "       scoring=None, verbose=0)"
      ]
     },
     "execution_count": 152,
     "metadata": {},
     "output_type": "execute_result"
    }
   ],
   "source": [
    "grid_search.fit(X_tree, y_tree)"
   ]
  },
  {
   "cell_type": "code",
   "execution_count": 153,
   "metadata": {
    "collapsed": false
   },
   "outputs": [
    {
     "name": "stdout",
     "output_type": "stream",
     "text": [
      "0.864001060938 {'learning_rate': 0.5, 'max_depth': 1, 'n_estimators': 500}\n",
      "0.866255553345 {'learning_rate': 0.5, 'max_depth': 1, 'n_estimators': 750}\n",
      "0.866885485047 {'learning_rate': 0.5, 'max_depth': 1, 'n_estimators': 1000}\n",
      "0.868211657052 {'learning_rate': 0.5, 'max_depth': 2, 'n_estimators': 500}\n",
      "0.867813805451 {'learning_rate': 0.5, 'max_depth': 2, 'n_estimators': 750}\n",
      "0.868775280154 {'learning_rate': 0.5, 'max_depth': 2, 'n_estimators': 1000}\n",
      "0.865957164644 {'learning_rate': 0.5, 'max_depth': 3, 'n_estimators': 500}\n",
      "0.863304820635 {'learning_rate': 0.5, 'max_depth': 3, 'n_estimators': 750}\n",
      "0.862509117433 {'learning_rate': 0.5, 'max_depth': 3, 'n_estimators': 1000}\n",
      "0.860553013726 {'learning_rate': 1, 'max_depth': 1, 'n_estimators': 500}\n",
      "0.860718785226 {'learning_rate': 1, 'max_depth': 1, 'n_estimators': 750}\n",
      "0.860652476626 {'learning_rate': 1, 'max_depth': 1, 'n_estimators': 1000}\n",
      "0.867183873748 {'learning_rate': 1, 'max_depth': 2, 'n_estimators': 500}\n",
      "0.867217028049 {'learning_rate': 1, 'max_depth': 2, 'n_estimators': 750}\n",
      "0.867018102248 {'learning_rate': 1, 'max_depth': 2, 'n_estimators': 1000}\n",
      "0.864896227041 {'learning_rate': 1, 'max_depth': 3, 'n_estimators': 500}\n",
      "0.863304820635 {'learning_rate': 1, 'max_depth': 3, 'n_estimators': 750}\n",
      "0.864929381341 {'learning_rate': 1, 'max_depth': 3, 'n_estimators': 1000}\n",
      "0.853690073603 {'learning_rate': 1.5, 'max_depth': 1, 'n_estimators': 500}\n",
      "0.853690073603 {'learning_rate': 1.5, 'max_depth': 1, 'n_estimators': 750}\n",
      "0.853690073603 {'learning_rate': 1.5, 'max_depth': 1, 'n_estimators': 1000}\n",
      "0.853590610702 {'learning_rate': 1.5, 'max_depth': 2, 'n_estimators': 500}\n",
      "0.853590610702 {'learning_rate': 1.5, 'max_depth': 2, 'n_estimators': 750}\n",
      "0.853590610702 {'learning_rate': 1.5, 'max_depth': 2, 'n_estimators': 1000}\n",
      "0.857535972416 {'learning_rate': 1.5, 'max_depth': 3, 'n_estimators': 500}\n",
      "0.857801206817 {'learning_rate': 1.5, 'max_depth': 3, 'n_estimators': 750}\n",
      "0.858132749818 {'learning_rate': 1.5, 'max_depth': 3, 'n_estimators': 1000}\n"
     ]
    }
   ],
   "source": [
    "cvres = grid_search.cv_results_\n",
    "for mean_score, params in zip(cvres['mean_test_score'], cvres['params']):\n",
    "    print(mean_score, params)"
   ]
  },
  {
   "cell_type": "code",
   "execution_count": 154,
   "metadata": {
    "collapsed": false
   },
   "outputs": [
    {
     "data": {
      "text/plain": [
       "{'learning_rate': 0.5, 'max_depth': 2, 'n_estimators': 1000}"
      ]
     },
     "execution_count": 154,
     "metadata": {},
     "output_type": "execute_result"
    }
   ],
   "source": [
    "grid_search.best_params_"
   ]
  },
  {
   "cell_type": "markdown",
   "metadata": {},
   "source": [
    "## Additional Tuning"
   ]
  },
  {
   "cell_type": "code",
   "execution_count": 155,
   "metadata": {
    "collapsed": true
   },
   "outputs": [],
   "source": [
    "param_grid2 = [{'n_estimators':[1000,1500], 'learning_rate':[0.1, .25, 0.5]}] "
   ]
  },
  {
   "cell_type": "code",
   "execution_count": 156,
   "metadata": {
    "collapsed": true
   },
   "outputs": [],
   "source": [
    "gbc2 = GradientBoostingClassifier(max_depth = 2)"
   ]
  },
  {
   "cell_type": "code",
   "execution_count": 157,
   "metadata": {
    "collapsed": true
   },
   "outputs": [],
   "source": [
    "grid_search2 = GridSearchCV(gbc2, param_grid2, cv=3)"
   ]
  },
  {
   "cell_type": "code",
   "execution_count": 158,
   "metadata": {
    "collapsed": false
   },
   "outputs": [
    {
     "data": {
      "text/plain": [
       "GridSearchCV(cv=3, error_score='raise',\n",
       "       estimator=GradientBoostingClassifier(criterion='friedman_mse', init=None,\n",
       "              learning_rate=0.1, loss='deviance', max_depth=2,\n",
       "              max_features=None, max_leaf_nodes=None,\n",
       "              min_impurity_split=1e-07, min_samples_leaf=1,\n",
       "              min_samples_split=2, min_weight_fraction_leaf=0.0,\n",
       "              n_estimators=100, presort='auto', random_state=None,\n",
       "              subsample=1.0, verbose=0, warm_start=False),\n",
       "       fit_params={}, iid=True, n_jobs=1,\n",
       "       param_grid=[{'n_estimators': [1000, 1500], 'learning_rate': [0.1, 0.25, 0.5]}],\n",
       "       pre_dispatch='2*n_jobs', refit=True, return_train_score=True,\n",
       "       scoring=None, verbose=0)"
      ]
     },
     "execution_count": 158,
     "metadata": {},
     "output_type": "execute_result"
    }
   ],
   "source": [
    "grid_search2.fit(X_tree, y_tree)"
   ]
  },
  {
   "cell_type": "code",
   "execution_count": 161,
   "metadata": {
    "collapsed": false
   },
   "outputs": [
    {
     "name": "stdout",
     "output_type": "stream",
     "text": [
      "0.869537829056 {'learning_rate': 0.1, 'n_estimators': 1000}\n",
      "0.869836217757 {'learning_rate': 0.1, 'n_estimators': 1500}\n",
      "0.869405211856 {'learning_rate': 0.25, 'n_estimators': 1000}\n",
      "0.868708971554 {'learning_rate': 0.25, 'n_estimators': 1500}\n",
      "0.86758172535 {'learning_rate': 0.5, 'n_estimators': 1000}\n",
      "0.866620250647 {'learning_rate': 0.5, 'n_estimators': 1500}\n"
     ]
    }
   ],
   "source": [
    "cvres2 = grid_search2.cv_results_\n",
    "for mean_score, params in zip(cvres2['mean_test_score'], cvres2['params']):\n",
    "    print(mean_score, params)"
   ]
  },
  {
   "cell_type": "code",
   "execution_count": 160,
   "metadata": {
    "collapsed": false
   },
   "outputs": [
    {
     "data": {
      "text/plain": [
       "{'learning_rate': 0.1, 'n_estimators': 1500}"
      ]
     },
     "execution_count": 160,
     "metadata": {},
     "output_type": "execute_result"
    }
   ],
   "source": [
    "grid_search2.best_params_"
   ]
  },
  {
   "cell_type": "markdown",
   "metadata": {},
   "source": [
    "## Addressing Data Set Imbalance"
   ]
  },
  {
   "cell_type": "code",
   "execution_count": 78,
   "metadata": {
    "collapsed": false
   },
   "outputs": [],
   "source": [
    "y = pd.DataFrame(y_tree)"
   ]
  },
  {
   "cell_type": "code",
   "execution_count": 79,
   "metadata": {
    "collapsed": false
   },
   "outputs": [],
   "source": [
    "y['sample_weight'] = np.where(y['>50K']==0, 1, 3)"
   ]
  },
  {
   "cell_type": "code",
   "execution_count": 80,
   "metadata": {
    "collapsed": true
   },
   "outputs": [],
   "source": [
    "gbc_final = GradientBoostingClassifier(max_depth=2, learning_rate=0.1, n_estimators=1500)"
   ]
  },
  {
   "cell_type": "code",
   "execution_count": 81,
   "metadata": {
    "collapsed": false
   },
   "outputs": [
    {
     "data": {
      "text/plain": [
       "GradientBoostingClassifier(criterion='friedman_mse', init=None,\n",
       "              learning_rate=0.1, loss='deviance', max_depth=2,\n",
       "              max_features=None, max_leaf_nodes=None,\n",
       "              min_impurity_split=1e-07, min_samples_leaf=1,\n",
       "              min_samples_split=2, min_weight_fraction_leaf=0.0,\n",
       "              n_estimators=1500, presort='auto', random_state=None,\n",
       "              subsample=1.0, verbose=0, warm_start=False)"
      ]
     },
     "execution_count": 81,
     "metadata": {},
     "output_type": "execute_result"
    }
   ],
   "source": [
    "gbc_final.fit(X_tree, y_tree, sample_weight=y['sample_weight'])"
   ]
  },
  {
   "cell_type": "code",
   "execution_count": 74,
   "metadata": {
    "collapsed": true
   },
   "outputs": [],
   "source": [
    "pred = gbc_final.predict(X_tree)"
   ]
  },
  {
   "cell_type": "code",
   "execution_count": 75,
   "metadata": {
    "collapsed": false
   },
   "outputs": [
    {
     "data": {
      "text/plain": [
       "array([[18924,  3730],\n",
       "       [  874,  6634]])"
      ]
     },
     "execution_count": 75,
     "metadata": {},
     "output_type": "execute_result"
    }
   ],
   "source": [
    "confusion_matrix(y_tree, pred)"
   ]
  },
  {
   "cell_type": "code",
   "execution_count": 86,
   "metadata": {
    "collapsed": false
   },
   "outputs": [
    {
     "name": "stdout",
     "output_type": "stream",
     "text": [
      "             precision    recall  f1-score   support\n",
      "\n",
      "          0       0.96      0.84      0.89     22654\n",
      "          1       0.64      0.88      0.74      7508\n",
      "\n",
      "avg / total       0.88      0.85      0.85     30162\n",
      "\n"
     ]
    }
   ],
   "source": [
    "print (classification_report(y_tree, pred))"
   ]
  },
  {
   "cell_type": "markdown",
   "metadata": {},
   "source": [
    "## Model Metrics"
   ]
  },
  {
   "cell_type": "code",
   "execution_count": 196,
   "metadata": {
    "collapsed": true
   },
   "outputs": [],
   "source": [
    "from sklearn.metrics import roc_curve, auc\n",
    "from sklearn.model_selection import StratifiedKFold\n",
    "from scipy import interp"
   ]
  },
  {
   "cell_type": "code",
   "execution_count": 185,
   "metadata": {
    "collapsed": true
   },
   "outputs": [],
   "source": [
    "gbc_final = GradientBoostingClassifier(max_depth = 2, learning_rate = 0.1, n_estimators = 1500)"
   ]
  },
  {
   "cell_type": "code",
   "execution_count": 204,
   "metadata": {
    "collapsed": true
   },
   "outputs": [],
   "source": [
    "pred = cross_val_predict(gbc_final, X_tree, y_tree, cv = 3)"
   ]
  },
  {
   "cell_type": "code",
   "execution_count": 205,
   "metadata": {
    "collapsed": true
   },
   "outputs": [],
   "source": [
    "mat = confusion_matrix(y_tree, pred)"
   ]
  },
  {
   "cell_type": "code",
   "execution_count": 229,
   "metadata": {
    "collapsed": false
   },
   "outputs": [
    {
     "data": {
      "image/png": "[encoded data removed]",
      "text/plain": [
       "<matplotlib.figure.Figure at 0x11a6dda58>"
      ]
     },
     "metadata": {},
     "output_type": "display_data"
    }
   ],
   "source": [
    "fig, ax = plt.subplots(figsize = (4, 4))\n",
    "ax.matshow(mat, cmap=plt.cm.Blues, alpha=0.3)\n",
    "for i in range(mat.shape[1]):\n",
    "    for j in range(mat.shape[1]):\n",
    "        ax.text(x=j, y=i, s=mat[i, j], va='center', ha='center', size=18)\n",
    "        \n",
    "plt.xlabel('Predicted Label')\n",
    "plt.ylabel('True Label')\n",
    "\n",
    "plt.tight_layout()\n",
    "plt.show()\n",
    "#fig.savefig('boosting_train_matrix.png', transparent = False, dpi = 80, bbox_inches = 'tight')"
   ]
  },
  {
   "cell_type": "code",
   "execution_count": 230,
   "metadata": {
    "collapsed": false
   },
   "outputs": [
    {
     "data": {
      "image/png": "[encoded data removed]",
      "text/plain": [
       "<matplotlib.figure.Figure at 0x12fc1f5f8>"
      ]
     },
     "metadata": {},
     "output_type": "display_data"
    }
   ],
   "source": [
    "cv = list(StratifiedKFold(n_splits = 3, random_state=7).split(X_tree, y_tree))\n",
    "\n",
    "mean_tpr = 0\n",
    "mean_fpr = np.linspace(0, 1, 100)\n",
    "\n",
    "fig = plt.figure(figsize=(10,10))\n",
    "\n",
    "for i, (train, test) in enumerate(cv):\n",
    "    probas = gbc_final.fit(X_tree.iloc[train], y_tree.iloc[train]).predict_proba(X_tree.iloc[test])\n",
    "    fpr, tpr, thresholds = roc_curve(y_tree.iloc[test], probas[:, 1], pos_label=1)\n",
    "    mean_tpr += interp(mean_fpr, fpr, tpr)\n",
    "    mean_tpr[0] = 0.0\n",
    "    roc_auc = auc(fpr, tpr)\n",
    "    plt.plot(fpr, tpr, lw=1, label='ROC fold %d (area = %0.2f)' % (i+1, roc_auc))\n",
    "    \n",
    "plt.plot([0, 1], [0, 1], linestyle='--', lw=1, color='k', label='Random Guessing')\n",
    "\n",
    "mean_tpr /= len(cv)\n",
    "mean_tpr[-1] = 1.0\n",
    "mean_auc = auc(mean_fpr, mean_tpr)\n",
    "plt.plot(mean_fpr, mean_tpr, color='darkorange', linestyle='--',\n",
    "        label='Mean ROC (area = %0.2f)' % mean_auc, lw=1)\n",
    "\n",
    "plt.xlim([-0.05, 1.05])\n",
    "plt.ylim([-0.05, 1.05])\n",
    "plt.xlabel('False Positive Rate')\n",
    "plt.ylabel('True Positive Rate')\n",
    "plt.title('Receiver Operating Characteristic Curves')\n",
    "plt.legend(loc='lower right')\n",
    "plt.show()\n",
    "\n",
    "#fig.savefig('boosting_train_roc.png', transparent = False, dpi = 80, bbox_inches = 'tight')"
   ]
  },
  {
   "cell_type": "markdown",
   "metadata": {
    "collapsed": true
   },
   "source": []
  }
 ],
 "metadata": {
  "kernelspec": {
   "display_name": "Python 3",
   "language": "python",
   "name": "python3"
  },
  "language_info": {
   "codemirror_mode": {
    "name": "ipython",
    "version": 3
   },
   "file_extension": ".py",
   "mimetype": "text/x-python",
   "name": "python",
   "nbconvert_exporter": "python",
   "pygments_lexer": "ipython3",
   "version": "3.6.0"
  }
 },
 "nbformat": 4,
 "nbformat_minor": 2
}
